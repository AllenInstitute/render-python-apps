{
 "cells": [
  {
   "cell_type": "code",
   "execution_count": 1,
   "metadata": {
    "collapsed": true
   },
   "outputs": [],
   "source": [
    "import renderapi\n",
    "import numpy as np\n"
   ]
  },
  {
   "cell_type": "code",
   "execution_count": 2,
   "metadata": {
    "collapsed": true
   },
   "outputs": [],
   "source": [
    "renderargs={\n",
    "        \"host\":\"render\",\n",
    "        \"port\":80,\n",
    "        \"owner\":\"forrest\",\n",
    "        \"project\":\"test\",\n",
    "        \"client_scripts\":\"/var/www/render/render-ws-java-client/src/main/scripts\"\n",
    "    }\n",
    "render = renderapi.render.connect(**renderargs)"
   ]
  },
  {
   "cell_type": "code",
   "execution_count": 3,
   "metadata": {
    "collapsed": true
   },
   "outputs": [],
   "source": [
    "stack = 'test'\n",
    "tilespecfile = '/var/www/render/examples/example_1/cycle1_step1_acquire_tiles.json'\n",
    "tformfile = '/var/www/render/examples/example_1/cycle1_step1_acquire_transforms.json'\n",
    "renderapi.stack.create_stack(stack, render=render)\n",
    "renderapi.client.import_jsonfiles(stack,[tilespecfile],tformfile,render=render)"
   ]
  },
  {
   "cell_type": "code",
   "execution_count": 4,
   "metadata": {},
   "outputs": [
    {
     "data": {
      "text/plain": [
       "[u'forrest']"
      ]
     },
     "execution_count": 4,
     "metadata": {},
     "output_type": "execute_result"
    }
   ],
   "source": [
    "renderapi.render.get_owners(render=render)"
   ]
  },
  {
   "cell_type": "code",
   "execution_count": null,
   "metadata": {
    "collapsed": true
   },
   "outputs": [],
   "source": []
  }
 ],
 "metadata": {
  "kernelspec": {
   "display_name": "Python 2",
   "language": "python",
   "name": "python2"
  },
  "language_info": {
   "codemirror_mode": {
    "name": "ipython",
    "version": 2
   },
   "file_extension": ".py",
   "mimetype": "text/x-python",
   "name": "python",
   "nbconvert_exporter": "python",
   "pygments_lexer": "ipython2",
   "version": "2.7.13"
  }
 },
 "nbformat": 4,
 "nbformat_minor": 2
}
