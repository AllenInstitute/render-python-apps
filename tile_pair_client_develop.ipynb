{
 "cells": [
  {
   "cell_type": "code",
   "execution_count": 7,
   "metadata": {
    "collapsed": true
   },
   "outputs": [],
   "source": [
    "import renderapi\n",
    "import renderapps\n",
    "from renderapps.module.render_module import RenderModule, RenderParameters\n",
    "import marshmallow as mm\n",
    "from rtree import index as rindex\n",
    "import networkx as nx\n",
    "import json\n",
    "from functools import partial"
   ]
  },
  {
   "cell_type": "code",
   "execution_count": null,
   "metadata": {
    "collapsed": true
   },
   "outputs": [],
   "source": []
  },
  {
   "cell_type": "code",
   "execution_count": 36,
   "metadata": {},
   "outputs": [],
   "source": [
    "class RegisterTilePairClientParameters(RenderParameters):\n",
    "    source_stack = mm.fields.Str(required=True,metadata={'description':'stack to find all tile matches from'})\n",
    "    target_stack = mm.fields.Str(required=True,metadata={'desctiption':'stack to find tiles that are close to stack1'})\n",
    "    merge_stack = mm.fields.Str(required=True,metadata={'desctiption':'stack that contains merge of source and target, defines z range to find match'})\n",
    "    tile_radius = mm.fields.Float(required=False,default=.2,\n",
    "                    metadata={'description':'fractions of a tile size to look for overlaps'})\n",
    "    render_parameters_template = mm.fields.Str(required=False,\n",
    "                                               default=\"{host}:{port}/owner/{owner}/project/{project}/stack/{stack}/tile/{id}/render-parameters\",\n",
    "                                               metadata={'description':'string template to use for tilepair file'})\n",
    "    tile_pair_file = mm.fields.Str(required=True, metadata = {'description':'filepath to save tilepair file'})\n",
    "class RegisterTilePairClient(RenderModule):\n",
    "    def __init__(self,schema_type=None,*args,**kwargs):\n",
    "        if schema_type is None:\n",
    "            schema_type = RegisterTilePairClientParameters\n",
    "        super(RegisterTilePairClient,self).__init__(schema_type=schema_type,*args,**kwargs)\n",
    "    def run(self):\n",
    "        self.logger.debug(json.dumps(self.args,indent=4))\n",
    "        self.logger.error('WARNING NEEDS TO BE TESTED, TALK TO FORREST IF BROKEN')\n",
    "\n",
    "        \n",
    "        zvalues = renderapi.stack.get_z_values_for_stack(self.args['merge_stack'], render=self.render)\n",
    "        mypartial = partial(self.find_pairs_in_z,\n",
    "                            self.render,\n",
    "                            self.args['source_stack'],\n",
    "                            self.args['target_stack'],\n",
    "                            self.args['tile_radius'])\n",
    "        tilepairs = mypartial(zvalues[0])\n",
    "        d = {}\n",
    "        \n",
    "        self.args['render'].update({'stack':self.args['merge_stack'],'id':'{id}'})\n",
    "        print self.args['render']\n",
    "        d['renderParametersUrlTemplate']=\\\n",
    "            self.args['render_parameters_template'].\\\n",
    "                 format(**self.args['render'])\n",
    "        d['neighborPairs']=tilepairs\n",
    "        \n",
    "        with open(self.args['tile_pair_file'],'w') as fp:\n",
    "            json.dump(d,fp)\n",
    "                                                                   \n",
    "        \n",
    "\n",
    "    def find_pairs_in_z(self,render,source_stack,target_stack,radius,z):\n",
    "        ridx = rindex.Index() #setup an Rtree to find overlapping tiles\n",
    "        #get the tilespecs from both stacks for this z\n",
    "        source_tiles = renderapi.tilespec.get_tile_specs_from_z(source_stack, z, render=render)\n",
    "        target_tiles = renderapi.tilespec.get_tile_specs_from_z(target_stack, z, render=render)\n",
    "        #insert the targets into an rtree\n",
    "        [ridx.insert(i,(ts.minX,ts.minY,ts.maxX,ts.maxY)) for i,ts in enumerate(target_tiles)]\n",
    "\n",
    "        tilepairs = []\n",
    "        #loop over the source\n",
    "        for ts in source_tiles:\n",
    "            #find the targets that match\n",
    "            nodes=list(ridx.intersection((ts.minX-ts.width*radius,\n",
    "                                          ts.minY-ts.height*radius,\n",
    "                                          ts.maxX+ts.width*radius,\n",
    "                                          ts.maxY+ts.height*radius)))\n",
    "            for node in nodes:\n",
    "                ts_target=target_tiles[i]\n",
    "                d = {\n",
    "                    \"p\":{\n",
    "                        \"groupId\":ts.layout.sectionId,\n",
    "                        \"id\":ts.tileId\n",
    "                    },\n",
    "                    \"q\":{\n",
    "                        \"groupId\":ts_target.layout.sectionId,\n",
    "                        \"id\":ts_target.tileId\n",
    "                    }\n",
    "                }\n",
    "                tilepairs.append(d)\n",
    "        self.logger.debug('found {} pairs in layer {}'.format(len(tilepairs),z))\n",
    "        return tilepairs \n"
   ]
  },
  {
   "cell_type": "code",
   "execution_count": 37,
   "metadata": {},
   "outputs": [
    {
     "name": "stderr",
     "output_type": "stream",
     "text": [
      "DEBUG:json_module:{\n",
      "    \"log_level\": \"DEBUG\", \n",
      "    \"render\": {\n",
      "        \"project\": \"EM_Phase1\", \n",
      "        \"host\": \"em-131fs\", \n",
      "        \"memGB\": \"5G\", \n",
      "        \"owner\": \"gayathri\", \n",
      "        \"port\": 8999, \n",
      "        \"client_scripts\": \"/pipeline/render/render-ws-java-client/src/main/scripts\"\n",
      "    }, \n",
      "    \"merge_stack\": \"Princeton_manual_align_testmerge\", \n",
      "    \"tile_radius\": 0.2, \n",
      "    \"render_parameters_template\": \"{host}:{port}/owner/{owner}/project/{project}/stack/{stack}/tile/{id}/render-parameters\", \n",
      "    \"source_stack\": \"manual_align_Phase1Data_3464_3500_forrestfix\", \n",
      "    \"target_stack\": \"Pinky40_20170313_aibsdata_flipped_shifted\", \n",
      "    \"tile_pair_file\": \"princeton_register_tilepair_v2.json\"\n",
      "}\n",
      "ERROR:json_module:WARNING NEEDS TO BE TESTED, TALK TO FORREST IF BROKEN\n",
      "DEBUG:json_module:found 16553 pairs in layer 3484.0\n"
     ]
    },
    {
     "name": "stdout",
     "output_type": "stream",
     "text": [
      "{'id': '{id}', 'stack': u'Princeton_manual_align_testmerge', 'project': u'EM_Phase1', 'host': u'em-131fs', 'memGB': u'5G', 'owner': u'gayathri', 'port': 8999, 'client_scripts': u'/pipeline/render/render-ws-java-client/src/main/scripts'}\n"
     ]
    }
   ],
   "source": [
    "renderargs={\n",
    "        u\"host\":\"em-131fs\",\n",
    "        u\"port\":8999,\n",
    "        u\"owner\":\"gayathri\",\n",
    "        u\"project\":\"EM_Phase1\",\n",
    "        u\"client_scripts\":\"/pipeline/render/render-ws-java-client/src/main/scripts\"\n",
    "    }\n",
    "\n",
    "inputs = {\n",
    "    \"render\":renderargs,\n",
    "    \"source_stack\":\"manual_align_Phase1Data_3464_3500_forrestfix\",\n",
    "    \"target_stack\":\"Pinky40_20170313_aibsdata_flipped_shifted\",\n",
    "    \"merge_stack\":\"Princeton_manual_align_testmerge\",\n",
    "    \"log_level\":\"DEBUG\",\n",
    "    \"tile_pair_file\":\"princeton_register_tilepair_v2.json\"\n",
    "}\n",
    "\n",
    "mod = RegisterTilePairClient(input_data = inputs,args=[])\n",
    "mod.run()"
   ]
  },
  {
   "cell_type": "code",
   "execution_count": null,
   "metadata": {
    "collapsed": true
   },
   "outputs": [],
   "source": []
  }
 ],
 "metadata": {
  "kernelspec": {
   "display_name": "Python 2",
   "language": "python",
   "name": "python2"
  },
  "language_info": {
   "codemirror_mode": {
    "name": "ipython",
    "version": 2
   },
   "file_extension": ".py",
   "mimetype": "text/x-python",
   "name": "python",
   "nbconvert_exporter": "python",
   "pygments_lexer": "ipython2",
   "version": "2.7.13"
  }
 },
 "nbformat": 4,
 "nbformat_minor": 2
}
